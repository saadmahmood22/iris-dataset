{
 "cells": [
  {
   "cell_type": "code",
   "execution_count": 2,
   "metadata": {},
   "outputs": [
    {
     "name": "stdout",
     "output_type": "stream",
     "text": [
      "   Id  SepalLengthCm  SepalWidthCm  PetalLengthCm  PetalWidthCm      Species\n",
      "0   1            5.1           3.5            1.4           0.2  Iris-setosa\n",
      "1   2            4.9           3.0            1.4           0.2  Iris-setosa\n",
      "2   3            4.7           3.2            1.3           0.2  Iris-setosa\n",
      "3   4            4.6           3.1            1.5           0.2  Iris-setosa\n",
      "4   5            NaN           3.6            1.4           0.2  Iris-setosa\n"
     ]
    }
   ],
   "source": [
    "# Importing libraries\n",
    "import pandas as pd\n",
    "import numpy as np\n",
    "\n",
    "# Reading csv file into a pandas dataframe\n",
    "iris = pd.read_csv(\"iris.csv\")\n",
    "\n",
    "# Printing out the first few rows of the data\n",
    "print(iris.head(5))"
   ]
  },
  {
   "cell_type": "code",
   "execution_count": 3,
   "metadata": {},
   "outputs": [
    {
     "name": "stdout",
     "output_type": "stream",
     "text": [
      "Missing Values\n",
      "\n",
      "sepal length: 3\n",
      "sepal width: 2\n",
      "petal length: 2\n",
      "petal width: 0\n",
      "species: 0\n"
     ]
    }
   ],
   "source": [
    "# Checking for missing values in each column\n",
    "print(\"Missing Values\\n\")\n",
    "print(\"sepal length: \" + str(iris[\"SepalLengthCm\"].isnull().sum()))\n",
    "print(\"sepal width: \" + str(iris[\"SepalWidthCm\"].isnull().sum()))\n",
    "print(\"petal length: \" + str(iris[\"PetalLengthCm\"].isnull().sum()))\n",
    "print(\"petal width: \" + str(iris[\"PetalWidthCm\"].isnull().sum()))\n",
    "print(\"species: \" + str(iris[\"Species\"].isnull().sum()))"
   ]
  },
  {
   "cell_type": "code",
   "execution_count": 4,
   "metadata": {},
   "outputs": [
    {
     "name": "stdout",
     "output_type": "stream",
     "text": [
      "True\n"
     ]
    }
   ],
   "source": [
    "# Filtering data related to \"setosa\" Species\n",
    "setosa_data = iris.loc[iris[\"Species\"] == \"Iris-setosa\"]\n",
    "\n",
    "# Checking if setosa sepal length has missing values\n",
    "print(setosa_data[\"SepalLengthCm\"].isnull().values.any())"
   ]
  },
  {
   "cell_type": "code",
   "execution_count": 5,
   "metadata": {},
   "outputs": [
    {
     "name": "stdout",
     "output_type": "stream",
     "text": [
      "5.0\n"
     ]
    }
   ],
   "source": [
    "# Calculating median of setosa sepal length\n",
    "setosa_SL_median = setosa_data[\"SepalLengthCm\"].median()\n",
    "\n",
    "print(setosa_SL_median)"
   ]
  },
  {
   "cell_type": "code",
   "execution_count": 6,
   "metadata": {},
   "outputs": [
    {
     "name": "stdout",
     "output_type": "stream",
     "text": [
      "False\n"
     ]
    }
   ],
   "source": [
    "# Checking if setosa sepal width has missing values\n",
    "print(setosa_data[\"SepalWidthCm\"].isnull().values.any())"
   ]
  },
  {
   "cell_type": "code",
   "execution_count": 7,
   "metadata": {},
   "outputs": [
    {
     "name": "stdout",
     "output_type": "stream",
     "text": [
      "True\n"
     ]
    }
   ],
   "source": [
    "# Checking if setosa petal length has missing values\n",
    "print(setosa_data[\"PetalLengthCm\"].isnull().values.any())"
   ]
  },
  {
   "cell_type": "code",
   "execution_count": 8,
   "metadata": {},
   "outputs": [
    {
     "name": "stdout",
     "output_type": "stream",
     "text": [
      "1.5\n"
     ]
    }
   ],
   "source": [
    "# Calculating median of setosa petal length\n",
    "setosa_PL_median = setosa_data[\"PetalLengthCm\"].median()\n",
    "\n",
    "print(setosa_PL_median)"
   ]
  },
  {
   "cell_type": "code",
   "execution_count": 9,
   "metadata": {},
   "outputs": [
    {
     "name": "stdout",
     "output_type": "stream",
     "text": [
      "False\n"
     ]
    }
   ],
   "source": [
    "# Checking if setosa petal width has missing values\n",
    "print(setosa_data[\"PetalWidthCm\"].isnull().values.any())"
   ]
  },
  {
   "cell_type": "code",
   "execution_count": 11,
   "metadata": {},
   "outputs": [],
   "source": [
    "pd.set_option('mode.chained_assignment', None)\n",
    "\n",
    "# Replacing missing values in setosa sepal length column with median\n",
    "setosa_data[\"SepalLengthCm\"].fillna(setosa_SL_median, inplace=True)\n",
    "\n",
    "# Replacing missing values in setosa petal length column with median\n",
    "setosa_data[\"PetalLengthCm\"].fillna(setosa_PL_median, inplace=True)"
   ]
  },
  {
   "cell_type": "code",
   "execution_count": 13,
   "metadata": {},
   "outputs": [
    {
     "name": "stdout",
     "output_type": "stream",
     "text": [
      "False\n"
     ]
    }
   ],
   "source": [
    "# Checking if setosa data has missing values\n",
    "print(setosa_data.isnull().values.any())\n"
   ]
  },
  {
   "cell_type": "code",
   "execution_count": 21,
   "metadata": {},
   "outputs": [
    {
     "name": "stdout",
     "output_type": "stream",
     "text": [
      "False\n"
     ]
    }
   ],
   "source": [
    "# Filtering data related to \"vernicolor\" Species\n",
    "versicolor_data = iris.loc[iris[\"Species\"] == \"Iris-versicolor\"]\n",
    "\n",
    "# Checking if versicolor sepal length has missing values\n",
    "print(versicolor_data[\"SepalLengthCm\"].isnull().values.any())"
   ]
  },
  {
   "cell_type": "code",
   "execution_count": 22,
   "metadata": {},
   "outputs": [
    {
     "name": "stdout",
     "output_type": "stream",
     "text": [
      "True\n"
     ]
    }
   ],
   "source": [
    "# Checking if versicolor sepal width has missing values\n",
    "print(versicolor_data[\"SepalWidthCm\"].isnull().values.any())"
   ]
  },
  {
   "cell_type": "code",
   "execution_count": 25,
   "metadata": {},
   "outputs": [
    {
     "name": "stdout",
     "output_type": "stream",
     "text": [
      "2.8\n"
     ]
    }
   ],
   "source": [
    "# Calculating median of versicolor sepal width\n",
    "versicolor_SW_median = versicolor_data[\"SepalWidthCm\"].median()\n",
    "\n",
    "print(versicolor_SW_median)"
   ]
  },
  {
   "cell_type": "code",
   "execution_count": 23,
   "metadata": {},
   "outputs": [
    {
     "name": "stdout",
     "output_type": "stream",
     "text": [
      "False\n"
     ]
    }
   ],
   "source": [
    "# Checking if versicolor petal length has missing values\n",
    "print(versicolor_data[\"PetalLengthCm\"].isnull().values.any())"
   ]
  },
  {
   "cell_type": "code",
   "execution_count": 24,
   "metadata": {},
   "outputs": [
    {
     "name": "stdout",
     "output_type": "stream",
     "text": [
      "False\n"
     ]
    }
   ],
   "source": [
    "# Checking if versicolor petal width has missing values\n",
    "print(versicolor_data[\"PetalWidthCm\"].isnull().values.any())"
   ]
  },
  {
   "cell_type": "code",
   "execution_count": 26,
   "metadata": {},
   "outputs": [],
   "source": [
    "# Replacing missing values in versicolor sepal width column with median\n",
    "versicolor_data[\"SepalWidthCm\"].fillna(versicolor_SW_median, inplace=True)"
   ]
  },
  {
   "cell_type": "code",
   "execution_count": 27,
   "metadata": {},
   "outputs": [
    {
     "name": "stdout",
     "output_type": "stream",
     "text": [
      "False\n"
     ]
    }
   ],
   "source": [
    "# Checking if versicolor data has missing values\n",
    "print(versicolor_data.isnull().values.any())"
   ]
  },
  {
   "cell_type": "code",
   "execution_count": 29,
   "metadata": {},
   "outputs": [
    {
     "name": "stdout",
     "output_type": "stream",
     "text": [
      "True\n"
     ]
    }
   ],
   "source": [
    "# Filtering data related to \"virginica\" Species\n",
    "virginica_data = iris.loc[iris[\"Species\"] == \"Iris-virginica\"]\n",
    "\n",
    "# Checking if virginica sepal length has missing values\n",
    "print(virginica_data[\"SepalLengthCm\"].isnull().values.any())"
   ]
  },
  {
   "cell_type": "code",
   "execution_count": 30,
   "metadata": {},
   "outputs": [
    {
     "name": "stdout",
     "output_type": "stream",
     "text": [
      "6.5\n"
     ]
    }
   ],
   "source": [
    "# Calculating median of virginica sepal length\n",
    "virginica_SL_median = virginica_data[\"SepalLengthCm\"].median()\n",
    "\n",
    "print(virginica_SL_median)"
   ]
  },
  {
   "cell_type": "code",
   "execution_count": 32,
   "metadata": {},
   "outputs": [
    {
     "name": "stdout",
     "output_type": "stream",
     "text": [
      "True\n"
     ]
    }
   ],
   "source": [
    "# Checking if virginica sepal width has missing values\n",
    "print(virginica_data[\"SepalWidthCm\"].isnull().values.any())"
   ]
  },
  {
   "cell_type": "code",
   "execution_count": 33,
   "metadata": {},
   "outputs": [
    {
     "name": "stdout",
     "output_type": "stream",
     "text": [
      "3.0\n"
     ]
    }
   ],
   "source": [
    "# Calculating median of virginica sepal width\n",
    "virginica_SW_median = virginica_data[\"SepalWidthCm\"].median()\n",
    "\n",
    "print(virginica_SW_median)"
   ]
  },
  {
   "cell_type": "code",
   "execution_count": 34,
   "metadata": {},
   "outputs": [
    {
     "name": "stdout",
     "output_type": "stream",
     "text": [
      "True\n"
     ]
    }
   ],
   "source": [
    "# Checking if virginica petal length has missing values\n",
    "print(virginica_data[\"PetalLengthCm\"].isnull().values.any())"
   ]
  },
  {
   "cell_type": "code",
   "execution_count": 35,
   "metadata": {},
   "outputs": [
    {
     "name": "stdout",
     "output_type": "stream",
     "text": [
      "5.5\n"
     ]
    }
   ],
   "source": [
    "# Calculating median of virginica petal length\n",
    "virginica_PL_median = virginica_data[\"PetalLengthCm\"].median()\n",
    "\n",
    "print(virginica_PL_median)"
   ]
  },
  {
   "cell_type": "code",
   "execution_count": 36,
   "metadata": {},
   "outputs": [
    {
     "name": "stdout",
     "output_type": "stream",
     "text": [
      "False\n"
     ]
    }
   ],
   "source": [
    "# Checking if virginica petal width has missing values\n",
    "print(virginica_data[\"PetalWidthCm\"].isnull().values.any())"
   ]
  },
  {
   "cell_type": "code",
   "execution_count": 38,
   "metadata": {},
   "outputs": [],
   "source": [
    "# Replacing missing values in virginica sepal length column with median\n",
    "virginica_data[\"SepalLengthCm\"].fillna(virginica_SL_median, inplace=True)\n",
    "\n",
    "# Replacing missing values in virginica sepal width column with median\n",
    "virginica_data[\"SepalWidthCm\"].fillna(virginica_SW_median, inplace=True)\n",
    "\n",
    "# Replacing missing values in virginica petal length column with median\n",
    "virginica_data[\"PetalLengthCm\"].fillna(virginica_PL_median, inplace=True)"
   ]
  },
  {
   "cell_type": "code",
   "execution_count": 40,
   "metadata": {},
   "outputs": [
    {
     "name": "stdout",
     "output_type": "stream",
     "text": [
      "False\n"
     ]
    }
   ],
   "source": [
    "# Checking if virginica data has missing values\n",
    "print(virginica_data.isnull().values.any())"
   ]
  },
  {
   "cell_type": "code",
   "execution_count": 53,
   "metadata": {},
   "outputs": [
    {
     "name": "stdout",
     "output_type": "stream",
     "text": [
      "   Id  SepalLengthCm  SepalWidthCm  PetalLengthCm  PetalWidthCm Species\n",
      "0   1            5.1           3.5            1.4           0.2  setosa\n",
      "1   2            4.9           3.0            1.4           0.2  setosa\n",
      "2   3            4.7           3.2            1.3           0.2  setosa\n",
      "3   4            4.6           3.1            1.5           0.2  setosa\n",
      "4   5            5.0           3.6            1.4           0.2  setosa\n",
      "*************************************************************************\n",
      "    Id  SepalLengthCm  SepalWidthCm  PetalLengthCm  PetalWidthCm     Species\n",
      "50  51            7.0           3.2            4.7           1.4  versicolor\n",
      "51  52            6.4           3.2            4.5           1.5  versicolor\n",
      "52  53            6.9           3.1            4.9           1.5  versicolor\n",
      "53  54            5.5           2.3            4.0           1.3  versicolor\n",
      "54  55            6.5           2.8            4.6           1.5  versicolor\n",
      "*************************************************************************\n",
      "      Id  SepalLengthCm  SepalWidthCm  PetalLengthCm  PetalWidthCm    Species\n",
      "100  101            6.3           3.3            6.0           2.5  virginica\n",
      "101  102            5.8           2.7            5.1           1.9  virginica\n",
      "102  103            7.1           3.0            5.9           2.1  virginica\n",
      "103  104            6.3           2.9            5.6           1.8  virginica\n",
      "104  105            6.5           3.0            5.8           2.2  virginica\n"
     ]
    }
   ],
   "source": [
    "# Removing the word \"Iris\" from Species column to avoid repetition\n",
    "setosa_data = setosa_data.replace(\"Iris-setosa\", \"setosa\")\n",
    "versicolor_data = versicolor_data.replace(\"Iris-versicolor\", \"versicolor\")\n",
    "virginica_data = virginica_data.replace(\"Iris-virginica\", \"virginica\")\n",
    "\n",
    "# Checking that \"Iris\" is removed\n",
    "print(setosa_data.head(5))\n",
    "print(\"*************************************************************************\")\n",
    "print(versicolor_data.head(5))\n",
    "print(\"*************************************************************************\")\n",
    "print(virginica_data.head(5))"
   ]
  },
  {
   "cell_type": "code",
   "execution_count": 102,
   "metadata": {},
   "outputs": [
    {
     "name": "stdout",
     "output_type": "stream",
     "text": [
      "      Id Sepal_length(mm) Sepal_width(mm) Petal_length(mm) Petal_width(mm)  \\\n",
      "0      1              5.1             3.5              1.4             0.2   \n",
      "1      2              4.9               3              1.4             0.2   \n",
      "2      3              4.7             3.2              1.3             0.2   \n",
      "3      4              4.6             3.1              1.5             0.2   \n",
      "4      5                5             3.6              1.4             0.2   \n",
      "..   ...              ...             ...              ...             ...   \n",
      "145  146              6.5               3              5.2             2.3   \n",
      "146  147              6.3             2.5                5             1.9   \n",
      "147  148              6.5               3              5.2               2   \n",
      "148  149              6.2             3.4              5.4             2.3   \n",
      "149  150              5.9               3              5.1             1.8   \n",
      "\n",
      "       Species  \n",
      "0       setosa  \n",
      "1       setosa  \n",
      "2       setosa  \n",
      "3       setosa  \n",
      "4       setosa  \n",
      "..         ...  \n",
      "145  virginica  \n",
      "146  virginica  \n",
      "147  virginica  \n",
      "148  virginica  \n",
      "149  virginica  \n",
      "\n",
      "[150 rows x 6 columns]\n"
     ]
    }
   ],
   "source": [
    "# Stacking the dataframes of all three species and updating iris dataframe with changes\n",
    "\n",
    "temporary_df = np.vstack((setosa_data, versicolor_data))\n",
    "complete_df = np.vstack((temporary_df, virginica_data))\n",
    "\n",
    "df = pd.DataFrame(data=complete_df, \n",
    "                  columns=[\"Id\", \"Sepal_length(mm)\", \"Sepal_width(mm)\", \"Petal_length(mm)\", \"Petal_width(mm)\", \"Species\"])\n",
    "iris = df\n",
    "\n",
    "print(iris)"
   ]
  },
  {
   "cell_type": "code",
   "execution_count": 103,
   "metadata": {},
   "outputs": [
    {
     "data": {
      "text/html": [
       "<div>\n",
       "<style scoped>\n",
       "    .dataframe tbody tr th:only-of-type {\n",
       "        vertical-align: middle;\n",
       "    }\n",
       "\n",
       "    .dataframe tbody tr th {\n",
       "        vertical-align: top;\n",
       "    }\n",
       "\n",
       "    .dataframe thead th {\n",
       "        text-align: right;\n",
       "    }\n",
       "</style>\n",
       "<table border=\"1\" class=\"dataframe\">\n",
       "  <thead>\n",
       "    <tr style=\"text-align: right;\">\n",
       "      <th></th>\n",
       "      <th>Id</th>\n",
       "      <th>Sepal_length(mm)</th>\n",
       "      <th>Sepal_width(mm)</th>\n",
       "      <th>Petal_length(mm)</th>\n",
       "      <th>Petal_width(mm)</th>\n",
       "      <th>Species</th>\n",
       "    </tr>\n",
       "  </thead>\n",
       "  <tbody>\n",
       "    <tr>\n",
       "      <th>0</th>\n",
       "      <td>1</td>\n",
       "      <td>51</td>\n",
       "      <td>35</td>\n",
       "      <td>14</td>\n",
       "      <td>2</td>\n",
       "      <td>setosa</td>\n",
       "    </tr>\n",
       "    <tr>\n",
       "      <th>1</th>\n",
       "      <td>2</td>\n",
       "      <td>49</td>\n",
       "      <td>30</td>\n",
       "      <td>14</td>\n",
       "      <td>2</td>\n",
       "      <td>setosa</td>\n",
       "    </tr>\n",
       "    <tr>\n",
       "      <th>2</th>\n",
       "      <td>3</td>\n",
       "      <td>47</td>\n",
       "      <td>32</td>\n",
       "      <td>13</td>\n",
       "      <td>2</td>\n",
       "      <td>setosa</td>\n",
       "    </tr>\n",
       "    <tr>\n",
       "      <th>3</th>\n",
       "      <td>4</td>\n",
       "      <td>46</td>\n",
       "      <td>31</td>\n",
       "      <td>15</td>\n",
       "      <td>2</td>\n",
       "      <td>setosa</td>\n",
       "    </tr>\n",
       "    <tr>\n",
       "      <th>4</th>\n",
       "      <td>5</td>\n",
       "      <td>50</td>\n",
       "      <td>36</td>\n",
       "      <td>14</td>\n",
       "      <td>2</td>\n",
       "      <td>setosa</td>\n",
       "    </tr>\n",
       "    <tr>\n",
       "      <th>...</th>\n",
       "      <td>...</td>\n",
       "      <td>...</td>\n",
       "      <td>...</td>\n",
       "      <td>...</td>\n",
       "      <td>...</td>\n",
       "      <td>...</td>\n",
       "    </tr>\n",
       "    <tr>\n",
       "      <th>145</th>\n",
       "      <td>146</td>\n",
       "      <td>65</td>\n",
       "      <td>30</td>\n",
       "      <td>52</td>\n",
       "      <td>23</td>\n",
       "      <td>virginica</td>\n",
       "    </tr>\n",
       "    <tr>\n",
       "      <th>146</th>\n",
       "      <td>147</td>\n",
       "      <td>63</td>\n",
       "      <td>25</td>\n",
       "      <td>50</td>\n",
       "      <td>19</td>\n",
       "      <td>virginica</td>\n",
       "    </tr>\n",
       "    <tr>\n",
       "      <th>147</th>\n",
       "      <td>148</td>\n",
       "      <td>65</td>\n",
       "      <td>30</td>\n",
       "      <td>52</td>\n",
       "      <td>20</td>\n",
       "      <td>virginica</td>\n",
       "    </tr>\n",
       "    <tr>\n",
       "      <th>148</th>\n",
       "      <td>149</td>\n",
       "      <td>62</td>\n",
       "      <td>34</td>\n",
       "      <td>54</td>\n",
       "      <td>23</td>\n",
       "      <td>virginica</td>\n",
       "    </tr>\n",
       "    <tr>\n",
       "      <th>149</th>\n",
       "      <td>150</td>\n",
       "      <td>59</td>\n",
       "      <td>30</td>\n",
       "      <td>51</td>\n",
       "      <td>18</td>\n",
       "      <td>virginica</td>\n",
       "    </tr>\n",
       "  </tbody>\n",
       "</table>\n",
       "<p>150 rows × 6 columns</p>\n",
       "</div>"
      ],
      "text/plain": [
       "      Id  Sepal_length(mm)  Sepal_width(mm)  Petal_length(mm)  \\\n",
       "0      1                51               35                14   \n",
       "1      2                49               30                14   \n",
       "2      3                47               32                13   \n",
       "3      4                46               31                15   \n",
       "4      5                50               36                14   \n",
       "..   ...               ...              ...               ...   \n",
       "145  146                65               30                52   \n",
       "146  147                63               25                50   \n",
       "147  148                65               30                52   \n",
       "148  149                62               34                54   \n",
       "149  150                59               30                51   \n",
       "\n",
       "     Petal_width(mm)    Species  \n",
       "0                  2     setosa  \n",
       "1                  2     setosa  \n",
       "2                  2     setosa  \n",
       "3                  2     setosa  \n",
       "4                  2     setosa  \n",
       "..               ...        ...  \n",
       "145               23  virginica  \n",
       "146               19  virginica  \n",
       "147               20  virginica  \n",
       "148               23  virginica  \n",
       "149               18  virginica  \n",
       "\n",
       "[150 rows x 6 columns]"
      ]
     },
     "execution_count": 103,
     "metadata": {},
     "output_type": "execute_result"
    }
   ],
   "source": [
    "# Converting length values from cm to mm and data type from float to int for better readability\n",
    "\n",
    "iris[\"Sepal_length(mm)\"] = iris[\"Sepal_length(mm)\"].apply(lambda x: x * 10)\n",
    "iris[\"Sepal_width(mm)\"] = iris[\"Sepal_width(mm)\"].apply(lambda x: x * 10)\n",
    "iris[\"Petal_length(mm)\"] = iris[\"Petal_length(mm)\"].apply(lambda x: x * 10)\n",
    "iris[\"Petal_width(mm)\"] = iris[\"Petal_width(mm)\"].apply(lambda x: x * 10)\n",
    "\n",
    "iris[\"Sepal_length(mm)\"] = iris[\"Sepal_length(mm)\"].astype(int)\n",
    "iris[\"Sepal_width(mm)\"] = iris[\"Sepal_width(mm)\"].astype(int)\n",
    "iris[\"Petal_length(mm)\"] = iris[\"Petal_length(mm)\"].astype(int)\n",
    "iris[\"Petal_width(mm)\"] = iris[\"Petal_width(mm)\"].astype(int)\n",
    "\n",
    "iris"
   ]
  },
  {
   "cell_type": "code",
   "execution_count": 113,
   "metadata": {},
   "outputs": [
    {
     "data": {
      "text/html": [
       "<div>\n",
       "<style scoped>\n",
       "    .dataframe tbody tr th:only-of-type {\n",
       "        vertical-align: middle;\n",
       "    }\n",
       "\n",
       "    .dataframe tbody tr th {\n",
       "        vertical-align: top;\n",
       "    }\n",
       "\n",
       "    .dataframe thead th {\n",
       "        text-align: right;\n",
       "    }\n",
       "</style>\n",
       "<table border=\"1\" class=\"dataframe\">\n",
       "  <thead>\n",
       "    <tr style=\"text-align: right;\">\n",
       "      <th></th>\n",
       "      <th>Id</th>\n",
       "      <th>Sepal_length(mm)</th>\n",
       "      <th>Sepal_width(mm)</th>\n",
       "      <th>Petal_length(mm)</th>\n",
       "      <th>Petal_width(mm)</th>\n",
       "      <th>Dimension_sum</th>\n",
       "      <th>Species</th>\n",
       "    </tr>\n",
       "  </thead>\n",
       "  <tbody>\n",
       "    <tr>\n",
       "      <th>0</th>\n",
       "      <td>1</td>\n",
       "      <td>51</td>\n",
       "      <td>35</td>\n",
       "      <td>14</td>\n",
       "      <td>2</td>\n",
       "      <td>102</td>\n",
       "      <td>setosa</td>\n",
       "    </tr>\n",
       "    <tr>\n",
       "      <th>1</th>\n",
       "      <td>2</td>\n",
       "      <td>49</td>\n",
       "      <td>30</td>\n",
       "      <td>14</td>\n",
       "      <td>2</td>\n",
       "      <td>95</td>\n",
       "      <td>setosa</td>\n",
       "    </tr>\n",
       "    <tr>\n",
       "      <th>2</th>\n",
       "      <td>3</td>\n",
       "      <td>47</td>\n",
       "      <td>32</td>\n",
       "      <td>13</td>\n",
       "      <td>2</td>\n",
       "      <td>94</td>\n",
       "      <td>setosa</td>\n",
       "    </tr>\n",
       "    <tr>\n",
       "      <th>3</th>\n",
       "      <td>4</td>\n",
       "      <td>46</td>\n",
       "      <td>31</td>\n",
       "      <td>15</td>\n",
       "      <td>2</td>\n",
       "      <td>94</td>\n",
       "      <td>setosa</td>\n",
       "    </tr>\n",
       "    <tr>\n",
       "      <th>4</th>\n",
       "      <td>5</td>\n",
       "      <td>50</td>\n",
       "      <td>36</td>\n",
       "      <td>14</td>\n",
       "      <td>2</td>\n",
       "      <td>102</td>\n",
       "      <td>setosa</td>\n",
       "    </tr>\n",
       "    <tr>\n",
       "      <th>...</th>\n",
       "      <td>...</td>\n",
       "      <td>...</td>\n",
       "      <td>...</td>\n",
       "      <td>...</td>\n",
       "      <td>...</td>\n",
       "      <td>...</td>\n",
       "      <td>...</td>\n",
       "    </tr>\n",
       "    <tr>\n",
       "      <th>145</th>\n",
       "      <td>146</td>\n",
       "      <td>65</td>\n",
       "      <td>30</td>\n",
       "      <td>52</td>\n",
       "      <td>23</td>\n",
       "      <td>170</td>\n",
       "      <td>virginica</td>\n",
       "    </tr>\n",
       "    <tr>\n",
       "      <th>146</th>\n",
       "      <td>147</td>\n",
       "      <td>63</td>\n",
       "      <td>25</td>\n",
       "      <td>50</td>\n",
       "      <td>19</td>\n",
       "      <td>157</td>\n",
       "      <td>virginica</td>\n",
       "    </tr>\n",
       "    <tr>\n",
       "      <th>147</th>\n",
       "      <td>148</td>\n",
       "      <td>65</td>\n",
       "      <td>30</td>\n",
       "      <td>52</td>\n",
       "      <td>20</td>\n",
       "      <td>167</td>\n",
       "      <td>virginica</td>\n",
       "    </tr>\n",
       "    <tr>\n",
       "      <th>148</th>\n",
       "      <td>149</td>\n",
       "      <td>62</td>\n",
       "      <td>34</td>\n",
       "      <td>54</td>\n",
       "      <td>23</td>\n",
       "      <td>173</td>\n",
       "      <td>virginica</td>\n",
       "    </tr>\n",
       "    <tr>\n",
       "      <th>149</th>\n",
       "      <td>150</td>\n",
       "      <td>59</td>\n",
       "      <td>30</td>\n",
       "      <td>51</td>\n",
       "      <td>18</td>\n",
       "      <td>158</td>\n",
       "      <td>virginica</td>\n",
       "    </tr>\n",
       "  </tbody>\n",
       "</table>\n",
       "<p>150 rows × 7 columns</p>\n",
       "</div>"
      ],
      "text/plain": [
       "      Id  Sepal_length(mm)  Sepal_width(mm)  Petal_length(mm)  \\\n",
       "0      1                51               35                14   \n",
       "1      2                49               30                14   \n",
       "2      3                47               32                13   \n",
       "3      4                46               31                15   \n",
       "4      5                50               36                14   \n",
       "..   ...               ...              ...               ...   \n",
       "145  146                65               30                52   \n",
       "146  147                63               25                50   \n",
       "147  148                65               30                52   \n",
       "148  149                62               34                54   \n",
       "149  150                59               30                51   \n",
       "\n",
       "     Petal_width(mm)  Dimension_sum    Species  \n",
       "0                  2            102     setosa  \n",
       "1                  2             95     setosa  \n",
       "2                  2             94     setosa  \n",
       "3                  2             94     setosa  \n",
       "4                  2            102     setosa  \n",
       "..               ...            ...        ...  \n",
       "145               23            170  virginica  \n",
       "146               19            157  virginica  \n",
       "147               20            167  virginica  \n",
       "148               23            173  virginica  \n",
       "149               18            158  virginica  \n",
       "\n",
       "[150 rows x 7 columns]"
      ]
     },
     "execution_count": 113,
     "metadata": {},
     "output_type": "execute_result"
    }
   ],
   "source": [
    "# Adding a new column which contains the sum of all lengths and widths of each flower\n",
    "\n",
    "iris[\"Dimension_sum\"] = iris.iloc[:, 1:6].sum(axis = 1)\n",
    "\n",
    "# Moving Dimention_sum before Species\n",
    "cols = list(iris.columns.values)\n",
    "iris = iris[cols[0:5] + [cols[-1]] + [cols[-2]]]\n",
    "\n",
    "iris"
   ]
  },
  {
   "cell_type": "code",
   "execution_count": 119,
   "metadata": {},
   "outputs": [],
   "source": [
    "iris.to_csv(\"modified_iris.csv\", index = False)"
   ]
  },
  {
   "cell_type": "code",
   "execution_count": null,
   "metadata": {},
   "outputs": [],
   "source": []
  }
 ],
 "metadata": {
  "kernelspec": {
   "display_name": "Python 3",
   "language": "python",
   "name": "python3"
  },
  "language_info": {
   "codemirror_mode": {
    "name": "ipython",
    "version": 3
   },
   "file_extension": ".py",
   "mimetype": "text/x-python",
   "name": "python",
   "nbconvert_exporter": "python",
   "pygments_lexer": "ipython3",
   "version": "3.8.2"
  }
 },
 "nbformat": 4,
 "nbformat_minor": 4
}
